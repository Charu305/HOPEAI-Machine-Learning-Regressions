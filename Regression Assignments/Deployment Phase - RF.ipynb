{
 "cells": [
  {
   "cell_type": "code",
   "execution_count": 1,
   "id": "232e1e44-58b0-4d22-874a-240525d190ba",
   "metadata": {},
   "outputs": [],
   "source": [
    "import pickle"
   ]
  },
  {
   "cell_type": "code",
   "execution_count": 5,
   "id": "a9629901-ac55-4f2b-92b3-99877b1c6463",
   "metadata": {},
   "outputs": [],
   "source": [
    "loaded_model=pickle.load(open(\"Finalised Randomm Forest Model.sav\",'rb'))"
   ]
  },
  {
   "cell_type": "code",
   "execution_count": 7,
   "id": "b196b22a-0371-4e86-91ec-816672331ac1",
   "metadata": {},
   "outputs": [
    {
     "name": "stdin",
     "output_type": "stream",
     "text": [
      "Age: 24\n",
      "BMI: 35\n",
      "Children: 1\n",
      "Sex male 0 or 1: 1\n",
      "Smoker Yes 0 or 1: 1\n"
     ]
    }
   ],
   "source": [
    "age_input = int(input(\"Age:\"))\n",
    "bmi_input = float(input(\"BMI:\"))\n",
    "children_input = int(input(\"Children:\"))\n",
    "sex_male_input = int(input(\"Sex male 0 or 1:\"))\n",
    "smoker_yes_input = int(input(\"Smoker Yes 0 or 1:\"))"
   ]
  },
  {
   "cell_type": "code",
   "execution_count": 9,
   "id": "fc017415-03b6-440d-a9fe-78b5d6078156",
   "metadata": {},
   "outputs": [
    {
     "name": "stderr",
     "output_type": "stream",
     "text": [
      "C:\\Users\\babuk\\anaconda3\\Lib\\site-packages\\sklearn\\utils\\validation.py:2749: UserWarning: X does not have valid feature names, but RandomForestRegressor was fitted with feature names\n",
      "  warnings.warn(\n"
     ]
    }
   ],
   "source": [
    "result=loaded_model.predict([[age_input,bmi_input,children_input,sex_male_input,smoker_yes_input]])"
   ]
  },
  {
   "cell_type": "code",
   "execution_count": 11,
   "id": "e12b18c0-c346-4a43-9dff-dc7f4618f159",
   "metadata": {},
   "outputs": [
    {
     "data": {
      "text/plain": [
       "array([37264.7013576])"
      ]
     },
     "execution_count": 11,
     "metadata": {},
     "output_type": "execute_result"
    }
   ],
   "source": [
    "result"
   ]
  },
  {
   "cell_type": "code",
   "execution_count": null,
   "id": "c91ae538-9f9d-4550-ad50-feeeff9f1e6a",
   "metadata": {},
   "outputs": [],
   "source": []
  }
 ],
 "metadata": {
  "kernelspec": {
   "display_name": "Python 3 (ipykernel)",
   "language": "python",
   "name": "python3"
  },
  "language_info": {
   "codemirror_mode": {
    "name": "ipython",
    "version": 3
   },
   "file_extension": ".py",
   "mimetype": "text/x-python",
   "name": "python",
   "nbconvert_exporter": "python",
   "pygments_lexer": "ipython3",
   "version": "3.12.4"
  }
 },
 "nbformat": 4,
 "nbformat_minor": 5
}
